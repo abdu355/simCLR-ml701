{
  "nbformat": 4,
  "nbformat_minor": 0,
  "metadata": {
    "colab": {
      "name": "ml701-simCLR-RN50-V2-PL.ipynb",
      "provenance": [],
      "collapsed_sections": [],
      "toc_visible": true,
      "include_colab_link": true
    },
    "kernelspec": {
      "name": "python3",
      "display_name": "Python 3"
    },
    "accelerator": "GPU",
    "widgets": {
      "application/vnd.jupyter.widget-state+json": {
        "32d6b2ed5e21458b93384342d6e89d3a": {
          "model_module": "@jupyter-widgets/controls",
          "model_name": "HBoxModel",
          "state": {
            "_view_name": "HBoxView",
            "_dom_classes": [],
            "_model_name": "HBoxModel",
            "_view_module": "@jupyter-widgets/controls",
            "_model_module_version": "1.5.0",
            "_view_count": null,
            "_view_module_version": "1.5.0",
            "box_style": "",
            "layout": "IPY_MODEL_95921fd9cb0b4421b559b21bdf1c1fd8",
            "_model_module": "@jupyter-widgets/controls",
            "children": [
              "IPY_MODEL_ef6c76720e8c4a8bbd03803dc6084dca",
              "IPY_MODEL_1f8fafbcd1ea466e9b87214f7d984421"
            ]
          }
        },
        "95921fd9cb0b4421b559b21bdf1c1fd8": {
          "model_module": "@jupyter-widgets/base",
          "model_name": "LayoutModel",
          "state": {
            "_view_name": "LayoutView",
            "grid_template_rows": null,
            "right": null,
            "justify_content": null,
            "_view_module": "@jupyter-widgets/base",
            "overflow": null,
            "_model_module_version": "1.2.0",
            "_view_count": null,
            "flex_flow": "row wrap",
            "width": "100%",
            "min_width": null,
            "border": null,
            "align_items": null,
            "bottom": null,
            "_model_module": "@jupyter-widgets/base",
            "top": null,
            "grid_column": null,
            "overflow_y": null,
            "overflow_x": null,
            "grid_auto_flow": null,
            "grid_area": null,
            "grid_template_columns": null,
            "flex": null,
            "_model_name": "LayoutModel",
            "justify_items": null,
            "grid_row": null,
            "max_height": null,
            "align_content": null,
            "visibility": null,
            "align_self": null,
            "height": null,
            "min_height": null,
            "padding": null,
            "grid_auto_rows": null,
            "grid_gap": null,
            "max_width": null,
            "order": null,
            "_view_module_version": "1.2.0",
            "grid_template_areas": null,
            "object_position": null,
            "object_fit": null,
            "grid_auto_columns": null,
            "margin": null,
            "display": "inline-flex",
            "left": null
          }
        },
        "ef6c76720e8c4a8bbd03803dc6084dca": {
          "model_module": "@jupyter-widgets/controls",
          "model_name": "FloatProgressModel",
          "state": {
            "_view_name": "ProgressView",
            "style": "IPY_MODEL_04416ef6f889406382d81d735e2e1f12",
            "_dom_classes": [],
            "description": "Validation sanity check:   0%",
            "_model_name": "FloatProgressModel",
            "bar_style": "danger",
            "max": 2,
            "_view_module": "@jupyter-widgets/controls",
            "_model_module_version": "1.5.0",
            "value": 0,
            "_view_count": null,
            "_view_module_version": "1.5.0",
            "orientation": "horizontal",
            "min": 0,
            "description_tooltip": null,
            "_model_module": "@jupyter-widgets/controls",
            "layout": "IPY_MODEL_0a479fe169524d54949f8788dd1fc48f"
          }
        },
        "1f8fafbcd1ea466e9b87214f7d984421": {
          "model_module": "@jupyter-widgets/controls",
          "model_name": "HTMLModel",
          "state": {
            "_view_name": "HTMLView",
            "style": "IPY_MODEL_7157dcd3e3084318a3e8e525a4f59c12",
            "_dom_classes": [],
            "description": "",
            "_model_name": "HTMLModel",
            "placeholder": "​",
            "_view_module": "@jupyter-widgets/controls",
            "_model_module_version": "1.5.0",
            "value": " 0/2 [00:00&lt;?, ?it/s]",
            "_view_count": null,
            "_view_module_version": "1.5.0",
            "description_tooltip": null,
            "_model_module": "@jupyter-widgets/controls",
            "layout": "IPY_MODEL_4f4d4aca48db476f8fa0b6eb6a0e448a"
          }
        },
        "04416ef6f889406382d81d735e2e1f12": {
          "model_module": "@jupyter-widgets/controls",
          "model_name": "ProgressStyleModel",
          "state": {
            "_view_name": "StyleView",
            "_model_name": "ProgressStyleModel",
            "description_width": "initial",
            "_view_module": "@jupyter-widgets/base",
            "_model_module_version": "1.5.0",
            "_view_count": null,
            "_view_module_version": "1.2.0",
            "bar_color": null,
            "_model_module": "@jupyter-widgets/controls"
          }
        },
        "0a479fe169524d54949f8788dd1fc48f": {
          "model_module": "@jupyter-widgets/base",
          "model_name": "LayoutModel",
          "state": {
            "_view_name": "LayoutView",
            "grid_template_rows": null,
            "right": null,
            "justify_content": null,
            "_view_module": "@jupyter-widgets/base",
            "overflow": null,
            "_model_module_version": "1.2.0",
            "_view_count": null,
            "flex_flow": null,
            "width": null,
            "min_width": null,
            "border": null,
            "align_items": null,
            "bottom": null,
            "_model_module": "@jupyter-widgets/base",
            "top": null,
            "grid_column": null,
            "overflow_y": null,
            "overflow_x": null,
            "grid_auto_flow": null,
            "grid_area": null,
            "grid_template_columns": null,
            "flex": "2",
            "_model_name": "LayoutModel",
            "justify_items": null,
            "grid_row": null,
            "max_height": null,
            "align_content": null,
            "visibility": null,
            "align_self": null,
            "height": null,
            "min_height": null,
            "padding": null,
            "grid_auto_rows": null,
            "grid_gap": null,
            "max_width": null,
            "order": null,
            "_view_module_version": "1.2.0",
            "grid_template_areas": null,
            "object_position": null,
            "object_fit": null,
            "grid_auto_columns": null,
            "margin": null,
            "display": null,
            "left": null
          }
        },
        "7157dcd3e3084318a3e8e525a4f59c12": {
          "model_module": "@jupyter-widgets/controls",
          "model_name": "DescriptionStyleModel",
          "state": {
            "_view_name": "StyleView",
            "_model_name": "DescriptionStyleModel",
            "description_width": "",
            "_view_module": "@jupyter-widgets/base",
            "_model_module_version": "1.5.0",
            "_view_count": null,
            "_view_module_version": "1.2.0",
            "_model_module": "@jupyter-widgets/controls"
          }
        },
        "4f4d4aca48db476f8fa0b6eb6a0e448a": {
          "model_module": "@jupyter-widgets/base",
          "model_name": "LayoutModel",
          "state": {
            "_view_name": "LayoutView",
            "grid_template_rows": null,
            "right": null,
            "justify_content": null,
            "_view_module": "@jupyter-widgets/base",
            "overflow": null,
            "_model_module_version": "1.2.0",
            "_view_count": null,
            "flex_flow": null,
            "width": null,
            "min_width": null,
            "border": null,
            "align_items": null,
            "bottom": null,
            "_model_module": "@jupyter-widgets/base",
            "top": null,
            "grid_column": null,
            "overflow_y": null,
            "overflow_x": null,
            "grid_auto_flow": null,
            "grid_area": null,
            "grid_template_columns": null,
            "flex": null,
            "_model_name": "LayoutModel",
            "justify_items": null,
            "grid_row": null,
            "max_height": null,
            "align_content": null,
            "visibility": null,
            "align_self": null,
            "height": null,
            "min_height": null,
            "padding": null,
            "grid_auto_rows": null,
            "grid_gap": null,
            "max_width": null,
            "order": null,
            "_view_module_version": "1.2.0",
            "grid_template_areas": null,
            "object_position": null,
            "object_fit": null,
            "grid_auto_columns": null,
            "margin": null,
            "display": null,
            "left": null
          }
        },
        "4c53255badea4dfdaf141018c723f65f": {
          "model_module": "@jupyter-widgets/controls",
          "model_name": "HBoxModel",
          "state": {
            "_view_name": "HBoxView",
            "_dom_classes": [],
            "_model_name": "HBoxModel",
            "_view_module": "@jupyter-widgets/controls",
            "_model_module_version": "1.5.0",
            "_view_count": null,
            "_view_module_version": "1.5.0",
            "box_style": "",
            "layout": "IPY_MODEL_1a3bbcf0a0c3479ead0b0d2640fe2ca4",
            "_model_module": "@jupyter-widgets/controls",
            "children": [
              "IPY_MODEL_f6fa03c0e8494e85be289c177a3c8e45",
              "IPY_MODEL_65c8c6c47cdd41bab66551fadef9368b"
            ]
          }
        },
        "1a3bbcf0a0c3479ead0b0d2640fe2ca4": {
          "model_module": "@jupyter-widgets/base",
          "model_name": "LayoutModel",
          "state": {
            "_view_name": "LayoutView",
            "grid_template_rows": null,
            "right": null,
            "justify_content": null,
            "_view_module": "@jupyter-widgets/base",
            "overflow": null,
            "_model_module_version": "1.2.0",
            "_view_count": null,
            "flex_flow": "row wrap",
            "width": "100%",
            "min_width": null,
            "border": null,
            "align_items": null,
            "bottom": null,
            "_model_module": "@jupyter-widgets/base",
            "top": null,
            "grid_column": null,
            "overflow_y": null,
            "overflow_x": null,
            "grid_auto_flow": null,
            "grid_area": null,
            "grid_template_columns": null,
            "flex": null,
            "_model_name": "LayoutModel",
            "justify_items": null,
            "grid_row": null,
            "max_height": null,
            "align_content": null,
            "visibility": null,
            "align_self": null,
            "height": null,
            "min_height": null,
            "padding": null,
            "grid_auto_rows": null,
            "grid_gap": null,
            "max_width": null,
            "order": null,
            "_view_module_version": "1.2.0",
            "grid_template_areas": null,
            "object_position": null,
            "object_fit": null,
            "grid_auto_columns": null,
            "margin": null,
            "display": "inline-flex",
            "left": null
          }
        },
        "f6fa03c0e8494e85be289c177a3c8e45": {
          "model_module": "@jupyter-widgets/controls",
          "model_name": "FloatProgressModel",
          "state": {
            "_view_name": "ProgressView",
            "style": "IPY_MODEL_ab88a8ee3dcb425fb69642670f60720a",
            "_dom_classes": [],
            "description": "Epoch 0: 100%",
            "_model_name": "FloatProgressModel",
            "bar_style": "success",
            "max": 1563,
            "_view_module": "@jupyter-widgets/controls",
            "_model_module_version": "1.5.0",
            "value": 1563,
            "_view_count": null,
            "_view_module_version": "1.5.0",
            "orientation": "horizontal",
            "min": 0,
            "description_tooltip": null,
            "_model_module": "@jupyter-widgets/controls",
            "layout": "IPY_MODEL_73eb429acfd441b8ae1a7d882715064a"
          }
        },
        "65c8c6c47cdd41bab66551fadef9368b": {
          "model_module": "@jupyter-widgets/controls",
          "model_name": "HTMLModel",
          "state": {
            "_view_name": "HTMLView",
            "style": "IPY_MODEL_d2072cd1822a4889ae87ce47ff749b07",
            "_dom_classes": [],
            "description": "",
            "_model_name": "HTMLModel",
            "placeholder": "​",
            "_view_module": "@jupyter-widgets/controls",
            "_model_module_version": "1.5.0",
            "value": " 1563/1563 [04:02&lt;00:00,  6.46it/s, loss=4.12, v_num=2]",
            "_view_count": null,
            "_view_module_version": "1.5.0",
            "description_tooltip": null,
            "_model_module": "@jupyter-widgets/controls",
            "layout": "IPY_MODEL_f23fccb04b9d4ea48f979c35fbf9fa7d"
          }
        },
        "ab88a8ee3dcb425fb69642670f60720a": {
          "model_module": "@jupyter-widgets/controls",
          "model_name": "ProgressStyleModel",
          "state": {
            "_view_name": "StyleView",
            "_model_name": "ProgressStyleModel",
            "description_width": "initial",
            "_view_module": "@jupyter-widgets/base",
            "_model_module_version": "1.5.0",
            "_view_count": null,
            "_view_module_version": "1.2.0",
            "bar_color": null,
            "_model_module": "@jupyter-widgets/controls"
          }
        },
        "73eb429acfd441b8ae1a7d882715064a": {
          "model_module": "@jupyter-widgets/base",
          "model_name": "LayoutModel",
          "state": {
            "_view_name": "LayoutView",
            "grid_template_rows": null,
            "right": null,
            "justify_content": null,
            "_view_module": "@jupyter-widgets/base",
            "overflow": null,
            "_model_module_version": "1.2.0",
            "_view_count": null,
            "flex_flow": null,
            "width": null,
            "min_width": null,
            "border": null,
            "align_items": null,
            "bottom": null,
            "_model_module": "@jupyter-widgets/base",
            "top": null,
            "grid_column": null,
            "overflow_y": null,
            "overflow_x": null,
            "grid_auto_flow": null,
            "grid_area": null,
            "grid_template_columns": null,
            "flex": "2",
            "_model_name": "LayoutModel",
            "justify_items": null,
            "grid_row": null,
            "max_height": null,
            "align_content": null,
            "visibility": null,
            "align_self": null,
            "height": null,
            "min_height": null,
            "padding": null,
            "grid_auto_rows": null,
            "grid_gap": null,
            "max_width": null,
            "order": null,
            "_view_module_version": "1.2.0",
            "grid_template_areas": null,
            "object_position": null,
            "object_fit": null,
            "grid_auto_columns": null,
            "margin": null,
            "display": null,
            "left": null
          }
        },
        "d2072cd1822a4889ae87ce47ff749b07": {
          "model_module": "@jupyter-widgets/controls",
          "model_name": "DescriptionStyleModel",
          "state": {
            "_view_name": "StyleView",
            "_model_name": "DescriptionStyleModel",
            "description_width": "",
            "_view_module": "@jupyter-widgets/base",
            "_model_module_version": "1.5.0",
            "_view_count": null,
            "_view_module_version": "1.2.0",
            "_model_module": "@jupyter-widgets/controls"
          }
        },
        "f23fccb04b9d4ea48f979c35fbf9fa7d": {
          "model_module": "@jupyter-widgets/base",
          "model_name": "LayoutModel",
          "state": {
            "_view_name": "LayoutView",
            "grid_template_rows": null,
            "right": null,
            "justify_content": null,
            "_view_module": "@jupyter-widgets/base",
            "overflow": null,
            "_model_module_version": "1.2.0",
            "_view_count": null,
            "flex_flow": null,
            "width": null,
            "min_width": null,
            "border": null,
            "align_items": null,
            "bottom": null,
            "_model_module": "@jupyter-widgets/base",
            "top": null,
            "grid_column": null,
            "overflow_y": null,
            "overflow_x": null,
            "grid_auto_flow": null,
            "grid_area": null,
            "grid_template_columns": null,
            "flex": null,
            "_model_name": "LayoutModel",
            "justify_items": null,
            "grid_row": null,
            "max_height": null,
            "align_content": null,
            "visibility": null,
            "align_self": null,
            "height": null,
            "min_height": null,
            "padding": null,
            "grid_auto_rows": null,
            "grid_gap": null,
            "max_width": null,
            "order": null,
            "_view_module_version": "1.2.0",
            "grid_template_areas": null,
            "object_position": null,
            "object_fit": null,
            "grid_auto_columns": null,
            "margin": null,
            "display": null,
            "left": null
          }
        },
        "a915462a240341429066b7a493f12638": {
          "model_module": "@jupyter-widgets/controls",
          "model_name": "HBoxModel",
          "state": {
            "_view_name": "HBoxView",
            "_dom_classes": [],
            "_model_name": "HBoxModel",
            "_view_module": "@jupyter-widgets/controls",
            "_model_module_version": "1.5.0",
            "_view_count": null,
            "_view_module_version": "1.5.0",
            "box_style": "",
            "layout": "IPY_MODEL_99f9017a0fd64a52bb7b0ef3aa53a93e",
            "_model_module": "@jupyter-widgets/controls",
            "children": [
              "IPY_MODEL_0819305ca69d4e63a176ba72878eae0e",
              "IPY_MODEL_15b12ecc841b47608adefefd570c1aa8"
            ]
          }
        },
        "99f9017a0fd64a52bb7b0ef3aa53a93e": {
          "model_module": "@jupyter-widgets/base",
          "model_name": "LayoutModel",
          "state": {
            "_view_name": "LayoutView",
            "grid_template_rows": null,
            "right": null,
            "justify_content": null,
            "_view_module": "@jupyter-widgets/base",
            "overflow": null,
            "_model_module_version": "1.2.0",
            "_view_count": null,
            "flex_flow": "row wrap",
            "width": "100%",
            "min_width": null,
            "border": null,
            "align_items": null,
            "bottom": null,
            "_model_module": "@jupyter-widgets/base",
            "top": null,
            "grid_column": null,
            "overflow_y": null,
            "overflow_x": null,
            "grid_auto_flow": null,
            "grid_area": null,
            "grid_template_columns": null,
            "flex": null,
            "_model_name": "LayoutModel",
            "justify_items": null,
            "grid_row": null,
            "max_height": null,
            "align_content": null,
            "visibility": null,
            "align_self": null,
            "height": null,
            "min_height": null,
            "padding": null,
            "grid_auto_rows": null,
            "grid_gap": null,
            "max_width": null,
            "order": null,
            "_view_module_version": "1.2.0",
            "grid_template_areas": null,
            "object_position": null,
            "object_fit": null,
            "grid_auto_columns": null,
            "margin": null,
            "display": "inline-flex",
            "left": null
          }
        },
        "0819305ca69d4e63a176ba72878eae0e": {
          "model_module": "@jupyter-widgets/controls",
          "model_name": "FloatProgressModel",
          "state": {
            "_view_name": "ProgressView",
            "style": "IPY_MODEL_b7042ea09886439c814eb2c885af87ee",
            "_dom_classes": [],
            "description": "Validating: 100%",
            "_model_name": "FloatProgressModel",
            "bar_style": "info",
            "max": 313,
            "_view_module": "@jupyter-widgets/controls",
            "_model_module_version": "1.5.0",
            "value": 313,
            "_view_count": null,
            "_view_module_version": "1.5.0",
            "orientation": "horizontal",
            "min": 0,
            "description_tooltip": null,
            "_model_module": "@jupyter-widgets/controls",
            "layout": "IPY_MODEL_855ac6fe6d3b4684833a97c9331e72a6"
          }
        },
        "15b12ecc841b47608adefefd570c1aa8": {
          "model_module": "@jupyter-widgets/controls",
          "model_name": "HTMLModel",
          "state": {
            "_view_name": "HTMLView",
            "style": "IPY_MODEL_16d83e59c31e4fa09d25ec97e1bd6aea",
            "_dom_classes": [],
            "description": "",
            "_model_name": "HTMLModel",
            "placeholder": "​",
            "_view_module": "@jupyter-widgets/controls",
            "_model_module_version": "1.5.0",
            "value": " 313/313 [00:29&lt;00:00, 10.64it/s]",
            "_view_count": null,
            "_view_module_version": "1.5.0",
            "description_tooltip": null,
            "_model_module": "@jupyter-widgets/controls",
            "layout": "IPY_MODEL_a5d43b97e6c14f4ba71009e037d3b916"
          }
        },
        "b7042ea09886439c814eb2c885af87ee": {
          "model_module": "@jupyter-widgets/controls",
          "model_name": "ProgressStyleModel",
          "state": {
            "_view_name": "StyleView",
            "_model_name": "ProgressStyleModel",
            "description_width": "initial",
            "_view_module": "@jupyter-widgets/base",
            "_model_module_version": "1.5.0",
            "_view_count": null,
            "_view_module_version": "1.2.0",
            "bar_color": null,
            "_model_module": "@jupyter-widgets/controls"
          }
        },
        "855ac6fe6d3b4684833a97c9331e72a6": {
          "model_module": "@jupyter-widgets/base",
          "model_name": "LayoutModel",
          "state": {
            "_view_name": "LayoutView",
            "grid_template_rows": null,
            "right": null,
            "justify_content": null,
            "_view_module": "@jupyter-widgets/base",
            "overflow": null,
            "_model_module_version": "1.2.0",
            "_view_count": null,
            "flex_flow": null,
            "width": null,
            "min_width": null,
            "border": null,
            "align_items": null,
            "bottom": null,
            "_model_module": "@jupyter-widgets/base",
            "top": null,
            "grid_column": null,
            "overflow_y": null,
            "overflow_x": null,
            "grid_auto_flow": null,
            "grid_area": null,
            "grid_template_columns": null,
            "flex": "2",
            "_model_name": "LayoutModel",
            "justify_items": null,
            "grid_row": null,
            "max_height": null,
            "align_content": null,
            "visibility": null,
            "align_self": null,
            "height": null,
            "min_height": null,
            "padding": null,
            "grid_auto_rows": null,
            "grid_gap": null,
            "max_width": null,
            "order": null,
            "_view_module_version": "1.2.0",
            "grid_template_areas": null,
            "object_position": null,
            "object_fit": null,
            "grid_auto_columns": null,
            "margin": null,
            "display": null,
            "left": null
          }
        },
        "16d83e59c31e4fa09d25ec97e1bd6aea": {
          "model_module": "@jupyter-widgets/controls",
          "model_name": "DescriptionStyleModel",
          "state": {
            "_view_name": "StyleView",
            "_model_name": "DescriptionStyleModel",
            "description_width": "",
            "_view_module": "@jupyter-widgets/base",
            "_model_module_version": "1.5.0",
            "_view_count": null,
            "_view_module_version": "1.2.0",
            "_model_module": "@jupyter-widgets/controls"
          }
        },
        "a5d43b97e6c14f4ba71009e037d3b916": {
          "model_module": "@jupyter-widgets/base",
          "model_name": "LayoutModel",
          "state": {
            "_view_name": "LayoutView",
            "grid_template_rows": null,
            "right": null,
            "justify_content": null,
            "_view_module": "@jupyter-widgets/base",
            "overflow": null,
            "_model_module_version": "1.2.0",
            "_view_count": null,
            "flex_flow": null,
            "width": null,
            "min_width": null,
            "border": null,
            "align_items": null,
            "bottom": null,
            "_model_module": "@jupyter-widgets/base",
            "top": null,
            "grid_column": null,
            "overflow_y": null,
            "overflow_x": null,
            "grid_auto_flow": null,
            "grid_area": null,
            "grid_template_columns": null,
            "flex": null,
            "_model_name": "LayoutModel",
            "justify_items": null,
            "grid_row": null,
            "max_height": null,
            "align_content": null,
            "visibility": null,
            "align_self": null,
            "height": null,
            "min_height": null,
            "padding": null,
            "grid_auto_rows": null,
            "grid_gap": null,
            "max_width": null,
            "order": null,
            "_view_module_version": "1.2.0",
            "grid_template_areas": null,
            "object_position": null,
            "object_fit": null,
            "grid_auto_columns": null,
            "margin": null,
            "display": null,
            "left": null
          }
        },
        "98eb25955c314236a9aa08ae932e0129": {
          "model_module": "@jupyter-widgets/controls",
          "model_name": "VBoxModel",
          "state": {
            "_view_name": "VBoxView",
            "_dom_classes": [],
            "_model_name": "VBoxModel",
            "_view_module": "@jupyter-widgets/controls",
            "_model_module_version": "1.5.0",
            "_view_count": null,
            "_view_module_version": "1.5.0",
            "box_style": "",
            "layout": "IPY_MODEL_5ba532d6eb8c4ff1802b39d94318c422",
            "_model_module": "@jupyter-widgets/controls",
            "children": [
              "IPY_MODEL_b18b671377634f37b20e0360d214860f",
              "IPY_MODEL_fd198696c0ff466a8f3041ddd000c488"
            ]
          }
        },
        "5ba532d6eb8c4ff1802b39d94318c422": {
          "model_module": "@jupyter-widgets/base",
          "model_name": "LayoutModel",
          "state": {
            "_view_name": "LayoutView",
            "grid_template_rows": null,
            "right": null,
            "justify_content": null,
            "_view_module": "@jupyter-widgets/base",
            "overflow": null,
            "_model_module_version": "1.2.0",
            "_view_count": null,
            "flex_flow": null,
            "width": null,
            "min_width": null,
            "border": null,
            "align_items": null,
            "bottom": null,
            "_model_module": "@jupyter-widgets/base",
            "top": null,
            "grid_column": null,
            "overflow_y": null,
            "overflow_x": null,
            "grid_auto_flow": null,
            "grid_area": null,
            "grid_template_columns": null,
            "flex": null,
            "_model_name": "LayoutModel",
            "justify_items": null,
            "grid_row": null,
            "max_height": null,
            "align_content": null,
            "visibility": null,
            "align_self": null,
            "height": null,
            "min_height": null,
            "padding": null,
            "grid_auto_rows": null,
            "grid_gap": null,
            "max_width": null,
            "order": null,
            "_view_module_version": "1.2.0",
            "grid_template_areas": null,
            "object_position": null,
            "object_fit": null,
            "grid_auto_columns": null,
            "margin": null,
            "display": null,
            "left": null
          }
        },
        "b18b671377634f37b20e0360d214860f": {
          "model_module": "@jupyter-widgets/controls",
          "model_name": "LabelModel",
          "state": {
            "_view_name": "LabelView",
            "style": "IPY_MODEL_6a08f68ee63e4b07a5fefbf8979b6a6a",
            "_dom_classes": [],
            "description": "",
            "_model_name": "LabelModel",
            "placeholder": "​",
            "_view_module": "@jupyter-widgets/controls",
            "_model_module_version": "1.5.0",
            "value": " 656.69MB of 656.69MB uploaded (0.00MB deduped)\r",
            "_view_count": null,
            "_view_module_version": "1.5.0",
            "description_tooltip": null,
            "_model_module": "@jupyter-widgets/controls",
            "layout": "IPY_MODEL_8440a147182946b785a6c8b4c62625bd"
          }
        },
        "fd198696c0ff466a8f3041ddd000c488": {
          "model_module": "@jupyter-widgets/controls",
          "model_name": "FloatProgressModel",
          "state": {
            "_view_name": "ProgressView",
            "style": "IPY_MODEL_677f375f1b51455f9b779a03e0ca006f",
            "_dom_classes": [],
            "description": "",
            "_model_name": "FloatProgressModel",
            "bar_style": "",
            "max": 1,
            "_view_module": "@jupyter-widgets/controls",
            "_model_module_version": "1.5.0",
            "value": 1,
            "_view_count": null,
            "_view_module_version": "1.5.0",
            "orientation": "horizontal",
            "min": 0,
            "description_tooltip": null,
            "_model_module": "@jupyter-widgets/controls",
            "layout": "IPY_MODEL_dce6e68b2fe6489e8cb53705767e03dd"
          }
        },
        "6a08f68ee63e4b07a5fefbf8979b6a6a": {
          "model_module": "@jupyter-widgets/controls",
          "model_name": "DescriptionStyleModel",
          "state": {
            "_view_name": "StyleView",
            "_model_name": "DescriptionStyleModel",
            "description_width": "",
            "_view_module": "@jupyter-widgets/base",
            "_model_module_version": "1.5.0",
            "_view_count": null,
            "_view_module_version": "1.2.0",
            "_model_module": "@jupyter-widgets/controls"
          }
        },
        "8440a147182946b785a6c8b4c62625bd": {
          "model_module": "@jupyter-widgets/base",
          "model_name": "LayoutModel",
          "state": {
            "_view_name": "LayoutView",
            "grid_template_rows": null,
            "right": null,
            "justify_content": null,
            "_view_module": "@jupyter-widgets/base",
            "overflow": null,
            "_model_module_version": "1.2.0",
            "_view_count": null,
            "flex_flow": null,
            "width": null,
            "min_width": null,
            "border": null,
            "align_items": null,
            "bottom": null,
            "_model_module": "@jupyter-widgets/base",
            "top": null,
            "grid_column": null,
            "overflow_y": null,
            "overflow_x": null,
            "grid_auto_flow": null,
            "grid_area": null,
            "grid_template_columns": null,
            "flex": null,
            "_model_name": "LayoutModel",
            "justify_items": null,
            "grid_row": null,
            "max_height": null,
            "align_content": null,
            "visibility": null,
            "align_self": null,
            "height": null,
            "min_height": null,
            "padding": null,
            "grid_auto_rows": null,
            "grid_gap": null,
            "max_width": null,
            "order": null,
            "_view_module_version": "1.2.0",
            "grid_template_areas": null,
            "object_position": null,
            "object_fit": null,
            "grid_auto_columns": null,
            "margin": null,
            "display": null,
            "left": null
          }
        },
        "677f375f1b51455f9b779a03e0ca006f": {
          "model_module": "@jupyter-widgets/controls",
          "model_name": "ProgressStyleModel",
          "state": {
            "_view_name": "StyleView",
            "_model_name": "ProgressStyleModel",
            "description_width": "",
            "_view_module": "@jupyter-widgets/base",
            "_model_module_version": "1.5.0",
            "_view_count": null,
            "_view_module_version": "1.2.0",
            "bar_color": null,
            "_model_module": "@jupyter-widgets/controls"
          }
        },
        "dce6e68b2fe6489e8cb53705767e03dd": {
          "model_module": "@jupyter-widgets/base",
          "model_name": "LayoutModel",
          "state": {
            "_view_name": "LayoutView",
            "grid_template_rows": null,
            "right": null,
            "justify_content": null,
            "_view_module": "@jupyter-widgets/base",
            "overflow": null,
            "_model_module_version": "1.2.0",
            "_view_count": null,
            "flex_flow": null,
            "width": null,
            "min_width": null,
            "border": null,
            "align_items": null,
            "bottom": null,
            "_model_module": "@jupyter-widgets/base",
            "top": null,
            "grid_column": null,
            "overflow_y": null,
            "overflow_x": null,
            "grid_auto_flow": null,
            "grid_area": null,
            "grid_template_columns": null,
            "flex": null,
            "_model_name": "LayoutModel",
            "justify_items": null,
            "grid_row": null,
            "max_height": null,
            "align_content": null,
            "visibility": null,
            "align_self": null,
            "height": null,
            "min_height": null,
            "padding": null,
            "grid_auto_rows": null,
            "grid_gap": null,
            "max_width": null,
            "order": null,
            "_view_module_version": "1.2.0",
            "grid_template_areas": null,
            "object_position": null,
            "object_fit": null,
            "grid_auto_columns": null,
            "margin": null,
            "display": null,
            "left": null
          }
        }
      }
    }
  },
  "cells": [
    {
      "cell_type": "markdown",
      "metadata": {
        "id": "view-in-github",
        "colab_type": "text"
      },
      "source": [
        "<a href=\"https://colab.research.google.com/github/abdu355/simCLR-ml701/blob/main/ml701_simCLR_RN50_V2_PL.ipynb\" target=\"_parent\"><img src=\"https://colab.research.google.com/assets/colab-badge.svg\" alt=\"Open In Colab\"/></a>"
      ]
    },
    {
      "cell_type": "markdown",
      "metadata": {
        "id": "VTtZvzLyFJ9C"
      },
      "source": [
        "# SimCLR with PL + Downstream\n",
        "\n",
        "List of full videos is here:    \n",
        "\n",
        "https://www.youtube.com/playlist?list=PLaMu-SDt_RB4k8VXiB3hOdsn0Y3GoXo1k\n",
        "\n",
        "Pretrained simCLR2: https://console.cloud.google.com/storage/browser/simclr-checkpoints/simclrv2/pretrained?pageState=(%22StorageObjectListTable%22:(%22f%22:%22%255B%255D%22))&prefix=&forceOnObjectsSortingFiltering=false"
      ]
    },
    {
      "cell_type": "code",
      "metadata": {
        "id": "X-C_4NI9EElT"
      },
      "source": [
        "# ------- USE FOR TPU SUPPPORT ------\n",
        "# %%capture\n",
        "# ! pip install cloud-tpu-client==0.10 https://storage.googleapis.com/tpu-pytorch/wheels/torch_xla-1.7-cp36-cp36m-linux_x86_64.whl\n",
        "# torch.tensor([10.]*10000000000) # trick to gain RAM ( doesnt work anymore...)"
      ],
      "execution_count": null,
      "outputs": []
    },
    {
      "cell_type": "code",
      "metadata": {
        "id": "zna_bcK-dtvT"
      },
      "source": [
        "%%capture\n",
        "! pip install pytorch-lightning-bolts\n",
        "! pip install pytorch-lightning\n",
        "! pip install wandb\n"
      ],
      "execution_count": 1,
      "outputs": []
    },
    {
      "cell_type": "code",
      "metadata": {
        "id": "-2hkbQR2TtP-"
      },
      "source": [
        "import torch\n",
        "import pytorch_lightning as pl\n",
        "from pl_bolts.models.self_supervised import SimCLR\n",
        "from pl_bolts.callbacks.ssl_online import SSLOnlineEvaluator\n",
        "from pl_bolts.datamodules import CIFAR10DataModule\n",
        "from pl_bolts.models.self_supervised.simclr.transforms import (\n",
        "    SimCLREvalDataTransform, SimCLRTrainDataTransform)\n",
        "import wandb\n",
        "from pytorch_lightning.loggers import WandbLogger"
      ],
      "execution_count": 2,
      "outputs": []
    },
    {
      "cell_type": "code",
      "metadata": {
        "id": "67u3AZxRlcym",
        "colab": {
          "base_uri": "https://localhost:8080/",
          "height": 421,
          "referenced_widgets": [
            "32d6b2ed5e21458b93384342d6e89d3a",
            "95921fd9cb0b4421b559b21bdf1c1fd8",
            "ef6c76720e8c4a8bbd03803dc6084dca",
            "1f8fafbcd1ea466e9b87214f7d984421",
            "04416ef6f889406382d81d735e2e1f12",
            "0a479fe169524d54949f8788dd1fc48f",
            "7157dcd3e3084318a3e8e525a4f59c12",
            "4f4d4aca48db476f8fa0b6eb6a0e448a",
            "4c53255badea4dfdaf141018c723f65f",
            "1a3bbcf0a0c3479ead0b0d2640fe2ca4",
            "f6fa03c0e8494e85be289c177a3c8e45",
            "65c8c6c47cdd41bab66551fadef9368b",
            "ab88a8ee3dcb425fb69642670f60720a",
            "73eb429acfd441b8ae1a7d882715064a",
            "d2072cd1822a4889ae87ce47ff749b07",
            "f23fccb04b9d4ea48f979c35fbf9fa7d",
            "a915462a240341429066b7a493f12638",
            "99f9017a0fd64a52bb7b0ef3aa53a93e",
            "0819305ca69d4e63a176ba72878eae0e",
            "15b12ecc841b47608adefefd570c1aa8",
            "b7042ea09886439c814eb2c885af87ee",
            "855ac6fe6d3b4684833a97c9331e72a6",
            "16d83e59c31e4fa09d25ec97e1bd6aea",
            "a5d43b97e6c14f4ba71009e037d3b916"
          ]
        },
        "outputId": "a793b652-f209-494d-8a8a-14796fdf79a9"
      },
      "source": [
        "# data\n",
        "dm = CIFAR10DataModule(num_workers=0)\n",
        "dm.train_transforms = SimCLRTrainDataTransform(32)\n",
        "dm.val_transforms = SimCLREvalDataTransform(32)\n",
        "\n",
        "\n",
        "# model\n",
        "model = SimCLR(max_epochs=5,num_samples=dm.num_samples, batch_size=dm.batch_size, dataset='cifar10', gpus=1)\n",
        "\n",
        "checkpoint_callback = pl.callbacks.ModelCheckpoint(\n",
        "    dirpath='simclr_ckp',\n",
        "    monitor='val_loss',\n",
        "    filename='{epoch}-{train_loss:.2f}-{val_loss:.2f}'    \n",
        ")\n",
        "\n",
        "# fit\n",
        "trainer = pl.Trainer(max_epochs=1,progress_bar_refresh_rate=20,gpus=1,logger=wandb_logger,callbacks=[checkpoint_callback])\n",
        "trainer.fit(model, datamodule=dm)\n",
        "\n",
        "wandb_logger = WandbLogger(name='exp_1-epochs_170221',project='simCLR-ml701', id='2', log_model=True)\n",
        "wandb_logger.watch(model, log=\"all\", log_freq=50)\n",
        "\n",
        "#save checkpoint with weights\n",
        "checkpoint_file = \"resnet50-cifar10-embeddings.ckpt\"\n",
        "trainer.save_checkpoint(checkpoint_file)\n",
        "#save to W&B\n",
        "trainer.logger.experiment.log_artifact(checkpoint_file, type=\"model\")\n"
      ],
      "execution_count": null,
      "outputs": [
        {
          "output_type": "stream",
          "text": [
            "GPU available: True, used: True\n",
            "TPU available: None, using: 0 TPU cores\n"
          ],
          "name": "stderr"
        },
        {
          "output_type": "stream",
          "text": [
            "Files already downloaded and verified\n",
            "Files already downloaded and verified\n"
          ],
          "name": "stdout"
        },
        {
          "output_type": "stream",
          "text": [
            "\n",
            "  | Name       | Type       | Params\n",
            "------------------------------------------\n",
            "0 | encoder    | ResNet     | 25.6 M\n",
            "1 | projection | Projection | 4.5 M \n",
            "------------------------------------------\n",
            "30.0 M    Trainable params\n",
            "0         Non-trainable params\n",
            "30.0 M    Total params\n",
            "120.078   Total estimated model params size (MB)\n"
          ],
          "name": "stderr"
        },
        {
          "output_type": "display_data",
          "data": {
            "application/vnd.jupyter.widget-view+json": {
              "model_id": "32d6b2ed5e21458b93384342d6e89d3a",
              "version_minor": 0,
              "version_major": 2
            },
            "text/plain": [
              "HBox(children=(FloatProgress(value=1.0, bar_style='info', description='Validation sanity check', layout=Layout…"
            ]
          },
          "metadata": {
            "tags": []
          }
        },
        {
          "output_type": "stream",
          "text": [
            "/usr/local/lib/python3.6/dist-packages/pytorch_lightning/core/step_result.py:148: UserWarning: To copy construct from a tensor, it is recommended to use sourceTensor.clone().detach() or sourceTensor.clone().detach().requires_grad_(True), rather than torch.tensor(sourceTensor).\n",
            "  value = torch.tensor(value, device=device, dtype=torch.float)\n"
          ],
          "name": "stderr"
        },
        {
          "output_type": "stream",
          "text": [
            "\r"
          ],
          "name": "stdout"
        },
        {
          "output_type": "display_data",
          "data": {
            "application/vnd.jupyter.widget-view+json": {
              "model_id": "4c53255badea4dfdaf141018c723f65f",
              "version_minor": 0,
              "version_major": 2
            },
            "text/plain": [
              "HBox(children=(FloatProgress(value=1.0, bar_style='info', description='Training', layout=Layout(flex='2'), max…"
            ]
          },
          "metadata": {
            "tags": []
          }
        },
        {
          "output_type": "display_data",
          "data": {
            "application/vnd.jupyter.widget-view+json": {
              "model_id": "a915462a240341429066b7a493f12638",
              "version_minor": 0,
              "version_major": 2
            },
            "text/plain": [
              "HBox(children=(FloatProgress(value=1.0, bar_style='info', description='Validating', layout=Layout(flex='2'), m…"
            ]
          },
          "metadata": {
            "tags": []
          }
        },
        {
          "output_type": "stream",
          "text": [
            "\u001b[34m\u001b[1mwandb\u001b[0m: \u001b[33mWARNING\u001b[0m Saving files without folders. If you want to preserve sub directories pass base_path to wandb.save, i.e. wandb.save(\"/mnt/folder/file.h5\", base_path=\"/mnt\")\n",
            "\u001b[34m\u001b[1mwandb\u001b[0m: \u001b[33mWARNING\u001b[0m Symlinked 0 file into the W&B run directory, call wandb.save again to sync new files.\n"
          ],
          "name": "stderr"
        },
        {
          "output_type": "stream",
          "text": [
            "\n"
          ],
          "name": "stdout"
        },
        {
          "output_type": "execute_result",
          "data": {
            "text/plain": [
              "<wandb.sdk.wandb_artifacts.Artifact at 0x7f268608a128>"
            ]
          },
          "metadata": {
            "tags": []
          },
          "execution_count": 9
        }
      ]
    },
    {
      "cell_type": "code",
      "metadata": {
        "id": "yX1UhEBKM8ac",
        "colab": {
          "base_uri": "https://localhost:8080/",
          "height": 583,
          "referenced_widgets": [
            "98eb25955c314236a9aa08ae932e0129",
            "5ba532d6eb8c4ff1802b39d94318c422",
            "b18b671377634f37b20e0360d214860f",
            "fd198696c0ff466a8f3041ddd000c488",
            "6a08f68ee63e4b07a5fefbf8979b6a6a",
            "8440a147182946b785a6c8b4c62625bd",
            "677f375f1b51455f9b779a03e0ca006f",
            "dce6e68b2fe6489e8cb53705767e03dd"
          ]
        },
        "outputId": "b9569e60-e155-4c34-bde9-624f72078c17"
      },
      "source": [
        "#end run on W&B + sync results\r\n",
        "wandb.finish()"
      ],
      "execution_count": null,
      "outputs": [
        {
          "output_type": "display_data",
          "data": {
            "text/html": [
              "<br/>Waiting for W&B process to finish, PID 215<br/>Program ended successfully."
            ],
            "text/plain": [
              "<IPython.core.display.HTML object>"
            ]
          },
          "metadata": {
            "tags": []
          }
        },
        {
          "output_type": "display_data",
          "data": {
            "application/vnd.jupyter.widget-view+json": {
              "model_id": "98eb25955c314236a9aa08ae932e0129",
              "version_minor": 0,
              "version_major": 2
            },
            "text/plain": [
              "VBox(children=(Label(value=' 656.67MB of 656.67MB uploaded (0.00MB deduped)\\r'), FloatProgress(value=1.0, max=…"
            ]
          },
          "metadata": {
            "tags": []
          }
        },
        {
          "output_type": "display_data",
          "data": {
            "text/html": [
              "Find user logs for this run at: <code>/content/wandb/run-20210221_143132-2/logs/debug.log</code>"
            ],
            "text/plain": [
              "<IPython.core.display.HTML object>"
            ]
          },
          "metadata": {
            "tags": []
          }
        },
        {
          "output_type": "display_data",
          "data": {
            "text/html": [
              "Find internal logs for this run at: <code>/content/wandb/run-20210221_143132-2/logs/debug-internal.log</code>"
            ],
            "text/plain": [
              "<IPython.core.display.HTML object>"
            ]
          },
          "metadata": {
            "tags": []
          }
        },
        {
          "output_type": "display_data",
          "data": {
            "text/html": [
              "<h3>Run summary:</h3><br/><style>\n",
              "    table.wandb td:nth-child(1) { padding: 0 10px; text-align: right }\n",
              "    </style><table class=\"wandb\">\n",
              "<tr><td>learning_rate</td><td>0.0001</td></tr><tr><td>train_loss</td><td>4.07734</td></tr><tr><td>epoch</td><td>0</td></tr><tr><td>_runtime</td><td>2392</td></tr><tr><td>_timestamp</td><td>1613920284</td></tr><tr><td>_step</td><td>8747</td></tr><tr><td>val_loss</td><td>4.12983</td></tr></table>"
            ],
            "text/plain": [
              "<IPython.core.display.HTML object>"
            ]
          },
          "metadata": {
            "tags": []
          }
        },
        {
          "output_type": "display_data",
          "data": {
            "text/html": [
              "<h3>Run history:</h3><br/><style>\n",
              "    table.wandb td:nth-child(1) { padding: 0 10px; text-align: right }\n",
              "    </style><table class=\"wandb\">\n",
              "<tr><td>learning_rate</td><td>▁▁▁▂▂▂▂▃▃▃▄▄▄▄▄▅▅▅▅▆▆▆▇▇▇▇███▁▁▂▂▂▂▁▁▂▂▂</td></tr><tr><td>train_loss</td><td>█▆▅▅▅▅▅▅▅▄▄▃▄▄▃▃▂▇▃▅▁▂▂▃▃▃▃▂▃▇▅▅▅▅▅▅▅▅▅▅</td></tr><tr><td>epoch</td><td>▁▁▁▁▁▁▃▃▃▃▃▃▅▅▅▅▅▆▆▆▆▆▆██████▁▁▁▁▁▁▁▁▁▁▁</td></tr><tr><td>_runtime</td><td>▁▁▁▁▁▂▂▂▂▂▂▃▃▃▃▃▃▃▃▄▄▄▄▄▄▄▅▅▅▆▆▇▇▇▇█████</td></tr><tr><td>_timestamp</td><td>▁▁▁▁▁▂▂▂▂▂▂▃▃▃▃▃▃▃▃▄▄▄▄▄▄▄▅▅▅▆▆▇▇▇▇█████</td></tr><tr><td>_step</td><td>▁▁▁▁▂▂▂▂▂▃▃▃▃▃▃▄▄▄▄▄▅▅▅▅▅▅▆▆▆▆▆▇▇▇▇▇▇███</td></tr><tr><td>val_loss</td><td>█▅▂▁▁██</td></tr></table><br/>"
            ],
            "text/plain": [
              "<IPython.core.display.HTML object>"
            ]
          },
          "metadata": {
            "tags": []
          }
        },
        {
          "output_type": "display_data",
          "data": {
            "text/html": [
              "Synced 5 W&B file(s), 0 media file(s), 2 artifact file(s) and 0 other file(s)"
            ],
            "text/plain": [
              "<IPython.core.display.HTML object>"
            ]
          },
          "metadata": {
            "tags": []
          }
        },
        {
          "output_type": "display_data",
          "data": {
            "text/html": [
              "\n",
              "                    <br/>Synced <strong style=\"color:#cdcd00\">exp_5-epochs_170221</strong>: <a href=\"https://wandb.ai/faresmalik/simCLR-ml701/runs/2\" target=\"_blank\">https://wandb.ai/faresmalik/simCLR-ml701/runs/2</a><br/>\n",
              "                "
            ],
            "text/plain": [
              "<IPython.core.display.HTML object>"
            ]
          },
          "metadata": {
            "tags": []
          }
        }
      ]
    },
    {
      "cell_type": "code",
      "metadata": {
        "id": "Y2qS69I8cfPR",
        "colab": {
          "base_uri": "https://localhost:8080/",
          "height": 129
        },
        "outputId": "082228fb-bfdc-45cd-a69b-3591d50dead1"
      },
      "source": [
        "# DOWNSTREAM TASK CLASSIFIER\r\n",
        "class MyShittyClassifier(nn.Module):\r\n",
        "    def __init__(self, n_classes, freeze_base, embeddings_model_path, hidden_size=512):\r\n",
        "        super().__init__()\r\n",
        "        \r\n",
        "        base_model = SimCLR.load_from_checkpoint(embeddings_model_path).model\r\n",
        "        \r\n",
        "        self.embeddings = base_model.embedding\r\n",
        "        \r\n",
        "        if freeze_base:\r\n",
        "            print(\"Freezing embeddings\")\r\n",
        "            for param in self.embeddings.parameters():\r\n",
        "                param.requires_grad = False\r\n",
        "                \r\n",
        "        # Only linear projection on top of the embeddings should be enough\r\n",
        "        self.classifier = nn.Linear(in_features=base_model.projection[0].in_features, \r\n",
        "                      out_features = n_classes if n_classes &gt; 2 else 1)\r\n",
        "\r\n",
        "    \r\n",
        "    def forward(self, X, *args):\r\n",
        "        emb = self.embeddings(X)\r\n",
        "        return self.classifier(emb)"
      ],
      "execution_count": null,
      "outputs": [
        {
          "output_type": "error",
          "ename": "SyntaxError",
          "evalue": "ignored",
          "traceback": [
            "\u001b[0;36m  File \u001b[0;32m\"<ipython-input-12-dcf32a814598>\"\u001b[0;36m, line \u001b[0;32m17\u001b[0m\n\u001b[0;31m    out_features = n_classes if n_classes &gt; 2 else 1)\u001b[0m\n\u001b[0m                                             ^\u001b[0m\n\u001b[0;31mSyntaxError\u001b[0m\u001b[0;31m:\u001b[0m invalid syntax\n"
          ]
        }
      ]
    },
    {
      "cell_type": "code",
      "metadata": {
        "id": "vQQ-zj_mUdzK"
      },
      "source": [
        "from torch import nn\r\n",
        "from torch.optim.lr_scheduler import CosineAnnealingLR\r\n",
        "from argparse import Namespace\r\n",
        "\r\n",
        "class MyShittyClassifierModule(pl.LightningModule):\r\n",
        "    def __init__(self, hparams):\r\n",
        "        super().__init__()\r\n",
        "        hparams = Namespace(**hparams) if isinstance(hparams, dict) else hparams\r\n",
        "        self.hparams = hparams\r\n",
        "        self.model = MyShittyClassifier(hparams.n_classes, hparams.freeze_base, \r\n",
        "                                      hparams.embeddings_path,\r\n",
        "                                      self.hparams.hidden_size)\r\n",
        "        self.loss = nn.CrossEntropyLoss()\r\n",
        "    \r\n",
        "    def total_steps(self):\r\n",
        "        return len(self.train_dataloader()) // self.hparams.epochs\r\n",
        "    \r\n",
        "    def preprocessing(seff):\r\n",
        "        return transforms.Compose([\r\n",
        "                transforms.ToTensor(),\r\n",
        "                transforms.Normalize(mean=[0.485, 0.456, 0.406], std=[0.229, 0.224, 0.225]),\r\n",
        "        ])\r\n",
        "    \r\n",
        "    #TODO: look at custom data loading - check docs\r\n",
        "    def get_dataloader(self, split):\r\n",
        "        return DataLoader(CIFAR10DataModule(\".\", split=split, transform=self.preprocessing()),\r\n",
        "                          batch_size=self.hparams.batch_size, \r\n",
        "                          shuffle=split==\"train\",\r\n",
        "                          num_workers=cpu_count(),\r\n",
        "                         drop_last=False)\r\n",
        "    \r\n",
        "    def train_dataloader(self):\r\n",
        "        return self.get_dataloader(\"train\")\r\n",
        "    \r\n",
        "    def val_dataloader(self):\r\n",
        "        return self.get_dataloader(\"test\")\r\n",
        "    \r\n",
        "    def forward(self, X):\r\n",
        "        return self.model(X)\r\n",
        "    \r\n",
        "    def step(self, batch, step_name = \"train\"):\r\n",
        "        X, y = batch\r\n",
        "        y_out = self.forward(X)\r\n",
        "        loss = self.loss(y_out, y)\r\n",
        "        loss_key = f\"{step_name}_loss\"\r\n",
        "        tensorboard_logs = {loss_key: loss}\r\n",
        "\r\n",
        "        return { (\"loss\" if step_name == \"train\" else loss_key): loss, 'log': tensorboard_logs,\r\n",
        "                        \"progress_bar\": {loss_key: loss}}\r\n",
        "    \r\n",
        "    def training_step(self, batch, batch_idx):\r\n",
        "        return self.step(batch, \"train\")\r\n",
        "    \r\n",
        "    def validation_step(self, batch, batch_idx):\r\n",
        "        return self.step(batch, \"val\")\r\n",
        "    \r\n",
        "    def test_step(self, batch, batch_idx):\r\n",
        "        return self.step(batch, \"test\")\r\n",
        "    \r\n",
        "    def validation_end(self, outputs):\r\n",
        "        if len(outputs) == 0:\r\n",
        "            return {\"val_loss\": torch.tensor(0)}\r\n",
        "        else:\r\n",
        "            loss = torch.stack([x[\"val_loss\"] for x in outputs]).mean()\r\n",
        "            return {\"val_loss\": loss, \"log\": {\"val_loss\": loss}}\r\n",
        "\r\n",
        "  #TODO: explore other schedulers and optimizers\r\n",
        "  \r\n",
        "    def configure_optimizers(self):\r\n",
        "        optimizer = RMSprop(self.model.parameters(), lr=self.hparams.lr)\r\n",
        "        schedulers = [\r\n",
        "            CosineAnnealingLR(optimizer, self.hparams.epochs)\r\n",
        "        ] if self.hparams.epochs &gt; 1 else []\r\n",
        "        return [optimizer], schedulers"
      ],
      "execution_count": null,
      "outputs": []
    },
    {
      "cell_type": "code",
      "metadata": {
        "id": "HhvrtSfg5yYt"
      },
      "source": [
        "\r\n",
        "hparams_cls = Namespace(\r\n",
        "    lr=1e-3,\r\n",
        "    epochs=5,\r\n",
        "    batch_size=160,\r\n",
        "    n_classes=10,\r\n",
        "    freeze_base=True,\r\n",
        "    embeddings_path=\"resnet50-cifar10-embeddings.ckpt\",\r\n",
        "    hidden_size=512\r\n",
        ")\r\n",
        "module = MyShittyClassifierModule(hparams_cls)\r\n",
        "\r\n",
        "wandb_logger = WandbLogger(name='classifier-exp-1',project='simCLR-ml701', id='d1', log_model=True)\r\n",
        "wandb_logger.watch(module, log=\"all\", log_freq=50)\r\n",
        "\r\n",
        "trainer = pl.Trainer(gpus=1, max_epochs=hparams_cls.epochs, logger=wandb_logger)\r\n",
        "\r\n"
      ],
      "execution_count": null,
      "outputs": []
    },
    {
      "cell_type": "code",
      "metadata": {
        "id": "cy-PlauM8xfv"
      },
      "source": [
        "from sklearn.metrics import classification_report\r\n",
        "\r\n",
        "def evaluate(data_loader, module):\r\n",
        "    with torch.no_grad():\r\n",
        "        progress = [\"/\", \"-\", \"\\\\\", \"|\", \"/\", \"-\", \"\\\\\", \"|\"]\r\n",
        "        module.eval().cuda()\r\n",
        "        true_y, pred_y = [], []\r\n",
        "        for i, batch_ in enumerate(data_loader):\r\n",
        "            X, y = batch_\r\n",
        "            print(progress[i % len(progress)], end=\"\\r\")\r\n",
        "            y_pred = torch.argmax(module(X.cuda()), dim=1)\r\n",
        "            true_y.extend(y.cpu())\r\n",
        "            pred_y.extend(y_pred.cpu())\r\n",
        "        print(classification_report(true_y, pred_y, digits=3))\r\n",
        "        return true_y, pred_y\r\n",
        "        \r\n",
        "_ = evaluate(module.val_dataloader(), module)"
      ],
      "execution_count": null,
      "outputs": []
    }
  ]
}